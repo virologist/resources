{
 "cells": [
  {
   "cell_type": "markdown",
   "metadata": {
    "collapsed": true
   },
   "source": [
    "# Markov Chain Monte Carlo "
   ]
  },
  {
   "cell_type": "markdown",
   "metadata": {},
   "source": [
    "From Bayes' theorem, we have:\n",
    "\n",
    "$Posterior \\propto Prior \\times Likelihood$\n",
    "\n",
    "There are three parts to MCMC:\n",
    "1. Monte Carlo\n",
    "2. Markov Chain\n",
    "3. Metropolis-Hastings algorithm\n",
    "\n",
    "## 1. Monte Carlo\n",
    "Generate a series of random values of $\\theta_{t}$, using a *proposal distribution*, say, $N(0.5, \\sigma)$, where $\\sigma$ is arbitrarily chosen.\n",
    "\n",
    "## 2. Markov Chain\n",
    "Generate $\\theta_{t}$ as a function of the previous value, e.g. $\\theta_{t} ~ N(\\theta_{t-1}, \\sigma)$.  Note that the resulting density plot will not look like the proposal distribution.\n",
    "\n",
    "## 3. Metropolis-Hastings\n",
    "For each $\\theta_{t}$ in (2), we decide whether or not to reject a new proposed $\\theta_{t}$. \n",
    "\n",
    "- Denote a proposed value of $\\theta$ at time *t* as $\\theta^{*}_{t}$. Compute the ratio:\n",
    "\n",
    "$LHS=\\frac{P(\\theta^{*}_{t})}{P(\\theta_{t})}$ = $\\frac{Beta(1,1,\\theta^{*}_{t}) \\times Bin(10,\\theta^{*}_{t})}{Beta(1,1,\\theta_{t}) \\times Bin(10,\\theta_{t})}$\n",
    "\n",
    "- Draw a random number, u ~ $U[0, 1]$\n",
    "- if u < LHS, then accept $\\theta^{*}_{t}$, i.e. set $\\theta_{t} = \\theta^{*}_{t}$. Else, $\\theta_{t} = \\theta_{t-1}$\n",
    "\n",
    "The result of this procedure is a bunch of samples, $\\theta_{t}$, from the posterior distribution.\n",
    "\n",
    "## Issues\n",
    " - Dependency on starting values: that's what burn-in is for.\n",
    " - Autocorrelation due to the Markov chain. Excessive correlation may indicate problems with model specification.  Use *thinning*: draw samples at regular intervals, e.g. keep every 20,000 values out of 200 million.\n",
    " - Look out for the acceptance rate! That's the proportion of $\\theta^{*}_{t}$'s that should be accepted.  Heuristically, an acceptance rate of 0.234 is a good number. "
   ]
  },
  {
   "cell_type": "code",
   "execution_count": null,
   "metadata": {
    "collapsed": true
   },
   "outputs": [],
   "source": []
  }
 ],
 "metadata": {
  "kernelspec": {
   "display_name": "Python 3",
   "language": "python",
   "name": "python3"
  },
  "language_info": {
   "codemirror_mode": {
    "name": "ipython",
    "version": 3
   },
   "file_extension": ".py",
   "mimetype": "text/x-python",
   "name": "python",
   "nbconvert_exporter": "python",
   "pygments_lexer": "ipython3",
   "version": "3.6.1"
  }
 },
 "nbformat": 4,
 "nbformat_minor": 2
}
