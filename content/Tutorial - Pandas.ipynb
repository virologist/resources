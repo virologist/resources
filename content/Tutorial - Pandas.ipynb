{
 "cells": [
  {
   "cell_type": "markdown",
   "metadata": {},
   "source": [
    "# `pandas` Quickstart Tutorial\n",
    "`pandas` is a Python library which deals with manipulating tabular data, selecting whatever subset you wish to select, overriding some values if necessary, and so on. The basics of `pandas`, covered here, concern the very basics of previewing the data, and some simple data retrieval. From my experience, elementary functions in `pandas` are very easy to learn, but `pandas` (and database curation) is very hard to master (that's why a \"database analyst\", a person or team dedicated to just data management and retrieval, is a legit occupation in the private sector).\n",
    " - Difficulty: Beginner\n",
    " - Time: 10 - 15 mins\n",
    " - Prerequisites: none\n",
    " \n",
    "If you haven't installed `pandas` yet, pip install it by running on the terminal:\n",
    "\n",
    "`pip install pandas`\n",
    "\n",
    "If it turns out that you already do, then the pip-installer will just inform you.\n",
    "\n",
    "This tutorial should come with a toy dataset: `pd_example.csv`, which is a random sample of size 1000 from `gis_lv_7150.csv`.  This contains sequences for all 8 genes, and a whole bunch of metadata."
   ]
  },
  {
   "cell_type": "code",
   "execution_count": 1,
   "metadata": {
    "collapsed": true
   },
   "outputs": [],
   "source": [
    "# import the library\n",
    "import pandas as pd\n",
    "\n",
    "# I usually define the working directory here, \n",
    "# so I don't have to type this long name over and over again\n",
    "path0 = '/users/dten0001/Documents/data/proj_yam_local/'"
   ]
  },
  {
   "cell_type": "code",
   "execution_count": 2,
   "metadata": {
    "collapsed": true
   },
   "outputs": [],
   "source": [
    "# Read the csv into a pandas dataframe:\n",
    "d0 = pd.read_csv(path0+\"pd_example.csv\")"
   ]
  },
  {
   "cell_type": "markdown",
   "metadata": {},
   "source": [
    "## Viewing your Data\n",
    "The following is a bunch of frequently used commands to explore the data."
   ]
  },
  {
   "cell_type": "code",
   "execution_count": null,
   "metadata": {},
   "outputs": [],
   "source": [
    "# How many rows and columns does your dataframe have?\n",
    "print(d0.shape)\n",
    "\n",
    "# What are the column names?\n",
    "print(\"Column names:\")\n",
    "print(d0.columns)"
   ]
  },
  {
   "cell_type": "code",
   "execution_count": null,
   "metadata": {},
   "outputs": [],
   "source": [
    "# Select one column, say, 'HA':\n",
    "d0[\"HA\"]"
   ]
  },
  {
   "cell_type": "code",
   "execution_count": null,
   "metadata": {},
   "outputs": [],
   "source": [
    "# Or select multiple columns by using a list as input:\n",
    "d0[[\"iso_name\", \"HA\", \"MP\", \"NA\"]]"
   ]
  },
  {
   "cell_type": "code",
   "execution_count": null,
   "metadata": {
    "collapsed": true
   },
   "outputs": [],
   "source": [
    "# Preview the first 10 rows of data. \n",
    "# If you leave the parameter input empty, default is 5\n",
    "d0.head(10)"
   ]
  },
  {
   "cell_type": "markdown",
   "metadata": {},
   "source": [
    "You can also view *some* of the dataframe just by entering `d0`. Jupyter will cut off the middle so that your whole screen isn't flooded. Note the number of rows and columns reported all the way at the bottom."
   ]
  },
  {
   "cell_type": "code",
   "execution_count": null,
   "metadata": {},
   "outputs": [],
   "source": [
    "d0"
   ]
  },
  {
   "cell_type": "markdown",
   "metadata": {},
   "source": [
    "## Data Retrieval\n",
    "The generic command syntax to select columns, based on the value in a particular column (or columns), is: \n",
    "\n",
    "`df.loc[df[\"column_name\"] == <something>]`\n",
    "\n",
    "To select rows whose column value equals a a particular value which can be a string, integer, or whatever:\n",
    "\n",
    "`df.loc[df['column_name'] == some_value]`\n",
    "\n",
    "To select rows whose column value is in an iterable, `values_list`, use `isin`:\n",
    "\n",
    "`df.loc[df['column_name'].isin(values_list)]`\n",
    "\n",
    "Combine multiple conditions with `&`. Place parentheses ( ) around each condition:\n",
    "\n",
    "`df.loc[(df['column_name'] == some_value) & df['other_column'].isin(values_list)]`\n",
    "\n",
    "To select rows whose column value does not equal some_value, use `!=`:\n",
    "\n",
    "`df.loc[df['column_name'] != some_value]`\n",
    "\n",
    "isin returns a boolean Series, so to select rows whose value is not in `values_list`, negate the boolean Series using ~:\n",
    "\n",
    "`df.loc[~df['column_name'].isin(values_list)]`\n",
    "\n",
    "You'll usually have to execute these in a sequence to get your data. The following cell shows some worked examples, which will generate a new dataframe, d1. We overwrite d1 over and over again, so feel free to break the cell below into multiple cells if you want play around and use `d1.shape`, and so on."
   ]
  },
  {
   "cell_type": "code",
   "execution_count": null,
   "metadata": {},
   "outputs": [],
   "source": [
    "# Select only the records from GISAID, and assign it to another dataframe, called d1\n",
    "d1 = d0.loc[d0[\"data_source\"] == \"GISAID\"]\n",
    "\n",
    "# Select only records from Australia, New Zealand, and Singapore\n",
    "countries = [\"Australia\", \"New Zealand\", \"Singapore\"]\n",
    "d1 = d0.loc[d0[\"country\"].isin(countries)]\n",
    "\n",
    "# Select by multiple conditions: say, records from Australia, NZ and SG, from 2012 to 2014\n",
    "# Currently, all data in d0 are strings. \n",
    "# We want to convert the collection year column, cyear, to a number (integer):\n",
    "pd.to_numeric(d0[\"cyear\"])\n",
    "\n",
    "d1 = d0.loc[(d0[\"country\"].isin(countries)) & (d0[\"cyear\"] =< 2014) & (d0[\"cyear\"] >= 2012)]"
   ]
  },
  {
   "cell_type": "markdown",
   "metadata": {},
   "source": [
    "## Misc. Commands"
   ]
  },
  {
   "cell_type": "code",
   "execution_count": null,
   "metadata": {},
   "outputs": [],
   "source": [
    "# How to see the sizes of different partitions of data, say, by collection year?\n",
    "d0.groupby([\"cyear\"]).size()"
   ]
  },
  {
   "cell_type": "code",
   "execution_count": null,
   "metadata": {},
   "outputs": [],
   "source": [
    "# For multiple levels of grouping, say, by continent, then country:\n",
    "d1 = d0.groupby([\"continent\", \"country\"]).size()\n",
    "# And try to preview it\n",
    "d1"
   ]
  },
  {
   "cell_type": "code",
   "execution_count": null,
   "metadata": {
    "collapsed": true
   },
   "outputs": [],
   "source": [
    "# Note that if d1 is too big, only the top and bottom bits will be shown. \n",
    "# To get around this, increase the maximum number of rows printed out to, say, 500:\n",
    "pd.set_option('display.max_rows', 500)\n",
    "# Other options of this sort:\n",
    "# pd.set_option('display.height', 1000)\n",
    "# pd.set_option('display.max_rows', 500)\n",
    "# pd.set_option('display.max_columns', 500)\n",
    "# pd.set_option('display.width', 1000)\n",
    "\n",
    "# Now try viewing d1 again:\n",
    "d1"
   ]
  },
  {
   "cell_type": "code",
   "execution_count": 3,
   "metadata": {
    "collapsed": true
   },
   "outputs": [],
   "source": [
    "# How to subsample? Select 200 records at random:\n",
    "d_sample = d0.sample(n=200, replace=False)\n",
    "\n",
    "# Or select a percentage, like 20%:\n",
    "d_sample = d0.sample(frac=0.2, replace=False)"
   ]
  },
  {
   "cell_type": "code",
   "execution_count": null,
   "metadata": {
    "collapsed": true
   },
   "outputs": [],
   "source": [
    "# Write d_sample to a csv:\n",
    "d_sample.to_csv(path0+\"d_sample.csv\")"
   ]
  }
 ],
 "metadata": {
  "kernelspec": {
   "display_name": "Python 3",
   "language": "python",
   "name": "python3"
  },
  "language_info": {
   "codemirror_mode": {
    "name": "ipython",
    "version": 3
   },
   "file_extension": ".py",
   "mimetype": "text/x-python",
   "name": "python",
   "nbconvert_exporter": "python",
   "pygments_lexer": "ipython3",
   "version": "3.6.1"
  }
 },
 "nbformat": 4,
 "nbformat_minor": 2
}
